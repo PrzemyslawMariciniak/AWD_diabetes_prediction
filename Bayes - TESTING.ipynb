{
 "cells": [
  {
   "cell_type": "code",
   "execution_count": 32,
   "id": "6682015f",
   "metadata": {},
   "outputs": [],
   "source": [
    "import numpy as np \n",
    "import pandas as pd \n",
    "import matplotlib.pyplot as plt\n",
    "import seaborn as sns\n",
    "import bnlearn as bn\n",
    "from sklearn.model_selection import train_test_split\n",
    "from sklearn.metrics import accuracy_score\n",
    "import warnings\n",
    "warnings.filterwarnings(\"ignore\")"
   ]
  },
  {
   "cell_type": "code",
   "execution_count": 33,
   "id": "f2d94681",
   "metadata": {},
   "outputs": [],
   "source": [
    "#Base dataset\n",
    "#train = pd.read_csv('data/healthcare/diabetes_train.csv',sep=';')\n",
    "#test = pd.read_csv('data/healthcare/diabetes_test.csv',sep=';')\n",
    "\n",
    "#Filled dataset, before binning\n",
    "#train = pd.read_csv('data/healthcare/diabetesBayessianRegressed.csv',sep=';')\n",
    "#train = pd.read_csv('data/healthcare/diabetesMean.csv',sep=';')\n",
    "\n",
    "#Filled dataset, after binning\n",
    "train = pd.read_csv('data/healthcare/diabetesKnowledgeBinnedBayeReg.csv',sep=';')\n",
    "#train = pd.read_csv('data/healthcare/diabetesKnowledgeBinnedMean.csv',sep=';')"
   ]
  },
  {
   "cell_type": "code",
   "execution_count": 34,
   "id": "954aeb0c",
   "metadata": {},
   "outputs": [],
   "source": [
    "def get_columns(dfs:pd.DataFrame, label:str, frange:tuple, product:int=1, const:int=0):\n",
    "    krok = product    \n",
    "    for x in range(frange[0],frange[1],frange[2]):\n",
    "        left = x*product+const\n",
    "        right = (x+1)*product+const\n",
    "        dfs[label+'('+ str(left) + ','+str(right)+')'] = (dfs[label]>=left) & (dfs[label]<right)\n",
    "    dfs.drop(labels=label,axis=1,inplace=True)"
   ]
  },
  {
   "cell_type": "code",
   "execution_count": 35,
   "id": "b081044a",
   "metadata": {},
   "outputs": [],
   "source": [
    "#Splitting data\n",
    "df_train = train\n",
    "df_data,df_valid = train_test_split(df_train,  test_size=0.2, random_state=0)"
   ]
  },
  {
   "cell_type": "code",
   "execution_count": 36,
   "id": "4cea4916",
   "metadata": {},
   "outputs": [],
   "source": [
    "#Get_score\n",
    "def get_acc(model, df, col):\n",
    "    # Get accuracy score by the model for the validation dataset df with target col\n",
    "    pred = bn.predict(model, df, variables=[col])\n",
    "    print(pred)\n",
    "    acc = accuracy_score(df[col], pred[col])\n",
    "    print('Accuracy -', acc)\n",
    "    return acc"
   ]
  },
  {
   "cell_type": "code",
   "execution_count": 37,
   "id": "00d7d5ff",
   "metadata": {},
   "outputs": [],
   "source": [
    "# Structure learning\n",
    "DAG = bn.structure_learning.fit(df_data, \n",
    "methodtype = 'ex',  # ex , nb ,hc\n",
    "root_node = 'Outcome',\n",
    "scoretype='k2',     # bic , bdeu , k2\n",
    "verbose = 1)\n",
    "\n",
    "G = bn.plot(DAG)\n",
    "#Plot DAG -> directed acyclic graph\n",
    "\n",
    "#model = bn.parameter_learning.fit(DAG, df_data, verbose=5)"
   ]
  }
 ],
 "metadata": {
  "kernelspec": {
   "display_name": "base",
   "language": "python",
   "name": "python3"
  },
  "language_info": {
   "codemirror_mode": {
    "name": "ipython",
    "version": 3
   },
   "file_extension": ".py",
   "mimetype": "text/x-python",
   "name": "python",
   "nbconvert_exporter": "python",
   "pygments_lexer": "ipython3",
   "version": "3.10.11"
  },
  "vscode": {
   "interpreter": {
    "hash": "fcb6c75713917bbeb6c7e52097ffadadbac73d1b7694c3ec4fe4848cb90a5430"
   }
  }
 },
 "nbformat": 4,
 "nbformat_minor": 5
}
